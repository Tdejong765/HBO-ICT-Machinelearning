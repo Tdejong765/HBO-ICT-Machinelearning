{
 "cells": [
  {
   "cell_type": "markdown",
   "id": "dab7f734",
   "metadata": {},
   "source": [
    "# Introductie Jupyter Notebook en Scikit-learn"
   ]
  },
  {
   "cell_type": "markdown",
   "id": "0d908baf",
   "metadata": {},
   "source": [
    "Zoals tijdens het theoriecollege is toegelicht, maken we vanaf deze week gebruik van Jupyter Notebooks, een feitelijke standaard voor het *rapid prototyping* van machine learning projecten. Het grote voordeel van notebooks is dat je de documentatie (in [markdown](https://www.markdownguide.org/)) direct tussen je runbare code hebt staan. Hoewel oorspronkelijk ontwikkeld voor Python zijn er inmiddels voor de meeste talen kernels ontwikkeld, zodat je ook Java, Go of PHP in notebooks kunt schrijven."
   ]
  },
  {
   "cell_type": "markdown",
   "id": "9d9f3198",
   "metadata": {},
   "source": [
    "Een tweede stap die we nu gaan zetten in gebruik maken van een bibliotheek om het zware werk voor ons over te nemen: [skikit learn](https://scikit-learn.org/stable/index.html). Tot nu toe schreven we alle code zelf, maar in het echt maak je gebruik van deze bibliotheek: die is sneller en makkelijker en stelt je in staat om je te richten op het maken en beoordelen van modellen in plaats van het goedlaten werken van feitelijk vrij triviale programmacode."
   ]
  },
  {
   "cell_type": "markdown",
   "id": "16bfbbf2",
   "metadata": {},
   "source": [
    "EÃ©n van de voordelen van sklearn is dat de meest gebruikte datasets [standaard in deze bibliotheek](https://scikit-learn.org/stable/datasets.html) zitten. Veel van de voorbeelden waar we de voorbije weken mee gewerkt hebben, zul je hierin terugvinden."
   ]
  },
  {
   "cell_type": "markdown",
   "id": "c64d7ac8",
   "metadata": {},
   "source": [
    "In deze opgave maken we gebruik van de [California Housing dataset](https://www.kaggle.com/datasets/camnugent/california-housing-prices). Run de volgende cel om de methode te importeren die deze dataset kan laden. Bestudeer [de documentatie](https://scikit-learn.org/stable/datasets/real_world.html#california-housing-dataset) om te weten te komen wat er in deze dataset is opgeslagen en hoe je vervolgens de data daadwerkelijk laadt. "
   ]
  },
  {
   "cell_type": "code",
   "execution_count": 142,
   "id": "a674117c",
   "metadata": {},
   "outputs": [],
   "source": [
    "# https://stackoverflow.com/a/49174340\n",
    "# Haal de onderstaande regel uit het commentaar als je SSL-errors krijgt:\n",
    "# ssl._create_default_https_context = ssl._create_unverified_context\n",
    "from sklearn.datasets import fetch_california_housing\n",
    "import matplotlib.pyplot as plt\n",
    "import numpy as np"
   ]
  },
  {
   "cell_type": "markdown",
   "id": "8017dcc5",
   "metadata": {},
   "source": [
    "# Opdracht 1: data laden en inspecteren"
   ]
  },
  {
   "cell_type": "markdown",
   "id": "be127fee",
   "metadata": {},
   "source": [
    "Gebruik de onderstaande cel om de methode `fetch_california_housing` aan te roepen. Mocht je bij het laden SSL-errors krijgen, probeer dan de eerste regel in de bovenstaande cel uit het commentaar te halen en run die cel nogmaals. Gebruik `feature_names` om de namen van de eigenschappen van de dataset te weten te komen. Zorg ervoor dat je de *data* van het resultaat in een variabele `X` zet, en de *target* in een variabele `y`."
   ]
  },
  {
   "cell_type": "code",
   "execution_count": 143,
   "id": "ed649361",
   "metadata": {},
   "outputs": [],
   "source": [
    "# YOUR CODE HERE\n",
    "Dataset = fetch_california_housing()\n",
    "\n",
    "y = Dataset['target']\n",
    "X = Dataset['data']\n",
    "\n"
   ]
  },
  {
   "cell_type": "markdown",
   "id": "89a3eea3",
   "metadata": {},
   "source": [
    "Zoals altijd maken we ook een paar visualisaties van de data om een beeld te krijgen van wat er zoal in zit. We beginnen met een scatter-plot; alleen dit keer plotten we niet de $y$-vector tegen een eigenschap uit de $X$-matrix; omdat we weten dat we te maken hebben met geografische data, is het leuker om de lengte- en breedtegraden tegenover elkaar te plotten. Maar gebruik van [`matplotlib.pyplot.scatter`](https://matplotlib.org/stable/api/_as_gen/matplotlib.pyplot.scatter.html) om deze twee gegevens (*Longitude* en *Latitude*, respectievelijk) te plotten.\n",
    "Als je het goed hebt gedaan, kun je in de resulterende plot de kustlijn van CaliforniÃ« herkennen."
   ]
  },
  {
   "cell_type": "code",
   "execution_count": 144,
   "id": "4b4bfc6a",
   "metadata": {},
   "outputs": [
    {
     "data": {
      "image/png": "[encoded data removed]",
      "text/plain": [
       "<Figure size 432x288 with 1 Axes>"
      ]
     },
     "metadata": {
      "needs_background": "light"
     },
     "output_type": "display_data"
    }
   ],
   "source": [
    "#YOUR CODE HERE\n",
    "\n",
    "long = []\n",
    "lat = []\n",
    "for i in range(len(Dataset['data'])):\n",
    "    long.append(Dataset['data'][i][7])\n",
    "    lat.append(Dataset['data'][i][6])\n",
    "\n",
    "plot = plt.scatter(long, lat)\n",
    "\n",
    "\n",
    "\n"
   ]
  },
  {
   "cell_type": "markdown",
   "id": "75334c28",
   "metadata": {},
   "source": [
    "Zoals je in de documentatie hebt gelezen, is de target-value de gemiddelde waarde van de huizen in die omgeving, uitgedrukt in honderdduizend dollar. Natuurlijk moeten we wat statistieken uit deze target-vector halen. Vul onderstaande cel aan, zodat de juiste waarden worden afgedrukt. Maar vervolgens gebruik van [pyplot.hist](https://matplotlib.org/stable/api/_as_gen/matplotlib.pyplot.hist.html) om een histogram van deze data te plotten. Beargumenteer op basis van de statistische gegevens in hoeveel `bins` je deze histogram moet onderverdelen."
   ]
  },
  {
   "cell_type": "code",
   "execution_count": 145,
   "id": "105625e5",
   "metadata": {},
   "outputs": [
    {
     "name": "stdout",
     "output_type": "stream",
     "text": [
      "==== DATA UIT DE TARGET-VECTOR ====\n",
      "Gemiddelde:      28.64\n",
      "Minimum:      29.00\n",
      "Maximum:      29.00\n",
      "StdDev:      12.59\n"
     ]
    }
   ],
   "source": [
    "import statistics as st\n",
    "# YOUR CODE HERE\n",
    "# vervang '0' door de juiste code\n",
    "min_value = 0\n",
    "max_value = 0\n",
    "stdev = 0\n",
    "gemiddelde = 0\n",
    "\n",
    "medHouseValue = []\n",
    "for i in range(len(Dataset['data'])):\n",
    "       medHouseValue.append(Dataset['data'][i][1])\n",
    "\n",
    "gemiddelde = st.mean(medHouseValue)\n",
    "stdev = st.stdev(medHouseValue)\n",
    "min_value = st.median_low(medHouseValue)\n",
    "max_value = st.median_high(medHouseValue)\n",
    "\n",
    "print ('==== DATA UIT DE TARGET-VECTOR ====')\n",
    "print (f'Gemiddelde: {gemiddelde:>10.2f}')\n",
    "print (f'Minimum: {min_value:>10.2f}')\n",
    "print (f'Maximum: {max_value:>10.2f}')\n",
    "print (f'StdDev: {stdev:>10.2f}')\n"
   ]
  },
  {
   "cell_type": "markdown",
   "id": "7a1685b0",
   "metadata": {},
   "source": [
    "Een belangrijke stap om een beeld te krijgen van de data in de set is door gebruik te maken van een [histogram](https://nl.wikipedia.org/wiki/Histogram). EÃ©n van de belangrijke vragen daarbij is in hoeveel `bins` je de data moet verdelen. Daarvoor zijn grofweg twee methoden: [Sturge's Rule](https://www.statology.org/sturges-rule/) en [Freedman-Diaconis rule](). Bestudeer [deze blog hierover](https://medium.datadriveninvestor.com/how-to-decide-on-the-number-of-bins-of-a-histogram-3c36dc5b1cd8) maak beide histogrammen. Let op dat het aantal `bins` een *geheel getal* moet zijn.\n",
    "\n",
    "Als het goed is, kom je in het eerste geval op 16 `bins` en in het tweede geval op 46. Welke van beide histogrammen vind je beter en waarom?"
   ]
  },
  {
   "cell_type": "code",
   "execution_count": 146,
   "id": "5ac6e457",
   "metadata": {},
   "outputs": [
    {
     "data": {
      "text/plain": [
       "(array([ 315.,  579.,  675.,  794., 1695., 2235., 1293., 1663., 1420.,\n",
       "        1499., 2990., 1300.,  968., 1003.,  620., 1591.]),\n",
       " array([ 1.    ,  4.1875,  7.375 , 10.5625, 13.75  , 16.9375, 20.125 ,\n",
       "        23.3125, 26.5   , 29.6875, 32.875 , 36.0625, 39.25  , 42.4375,\n",
       "        45.625 , 48.8125, 52.    ]),\n",
       " <BarContainer object of 16 artists>)"
      ]
     },
     "execution_count": 146,
     "metadata": {},
     "output_type": "execute_result"
    },
    {
     "data": {
      "image/png": "[encoded data removed]",
      "text/plain": [
       "<Figure size 432x288 with 1 Axes>"
      ]
     },
     "metadata": {
      "needs_background": "light"
     },
     "output_type": "display_data"
    }
   ],
   "source": [
    "import math\n",
    "# histogram met Sturge's Rule\n",
    "m,n = X.shape\n",
    "\n",
    "# YOUR CODE HERE\n",
    "sturge = math.ceil(math.log2(m))+1\n",
    "plt.hist(x=medHouseValue, bins=sturge)"
   ]
  },
  {
   "cell_type": "code",
   "execution_count": 147,
   "id": "418d60ff",
   "metadata": {},
   "outputs": [
    {
     "data": {
      "text/plain": [
       "(array([  62.,   62.,  435.,  160.,  175.,  411.,  264.,  492.,  302.,\n",
       "         412., 1283.,  698.,  570.,  967.,  446.,  847.,  478.,  566.,\n",
       "        1107.,  471.,  461.,  934.,  565., 1304.,  824.,  862.,  931.,\n",
       "         369.,  304.,  664.,  353.,  650.,  245.,  198.,  311.,  136.,\n",
       "        1321.]),\n",
       " array([ 1.        ,  2.37837838,  3.75675676,  5.13513514,  6.51351351,\n",
       "         7.89189189,  9.27027027, 10.64864865, 12.02702703, 13.40540541,\n",
       "        14.78378378, 16.16216216, 17.54054054, 18.91891892, 20.2972973 ,\n",
       "        21.67567568, 23.05405405, 24.43243243, 25.81081081, 27.18918919,\n",
       "        28.56756757, 29.94594595, 31.32432432, 32.7027027 , 34.08108108,\n",
       "        35.45945946, 36.83783784, 38.21621622, 39.59459459, 40.97297297,\n",
       "        42.35135135, 43.72972973, 45.10810811, 46.48648649, 47.86486486,\n",
       "        49.24324324, 50.62162162, 52.        ]),\n",
       " <BarContainer object of 37 artists>)"
      ]
     },
     "execution_count": 147,
     "metadata": {},
     "output_type": "execute_result"
    },
    {
     "data": {
      "image/png": "[encoded data removed]",
      "text/plain": [
       "<Figure size 432x288 with 1 Axes>"
      ]
     },
     "metadata": {
      "needs_background": "light"
     },
     "output_type": "display_data"
    }
   ],
   "source": [
    "# histogram met Freedman-Diaconis rule\n",
    "m,n = X.shape\n",
    "\n",
    "# YOUR CODE HERE\n",
    "freed = np.histogram_bin_edges(a=medHouseValue, bins='fd')\n",
    "plt.hist(x=medHouseValue, bins=freed)"
   ]
  },
  {
   "cell_type": "markdown",
   "id": "5fcc355d",
   "metadata": {},
   "source": [
    "## Opdracht 2: Lineaire regressie"
   ]
  },
  {
   "cell_type": "markdown",
   "id": "f2e520a9",
   "metadata": {},
   "source": [
    "Nu gaan we de *features* van deze dataset gebruiken om een voorspelling te doen van de waarde van een huis. In week 1 hebben we de wiskunde daarvan helemaal uitgeprogrammeerd; nu maken we gebruik van ['sklearn.linear_model.linear_regression'](https://scikit-learn.org/stable/modules/generated/sklearn.linear_model.LinearRegression.html)."
   ]
  },
  {
   "cell_type": "markdown",
   "id": "2ed8f6ff",
   "metadata": {},
   "source": [
    "Verdeel de data in 20% testdata en 80% trainingsdata. Maak hiervoor gebruik van [`train_test_split`](https://scikit-learn.org/dev/modules/generated/sklearn.model_selection.train_test_split.html). Laad de data opnieuw in met de parameter `return_X_y` op `True`, zodat je direct de *features* en de corresponderende *targets* hebt. Waarom is deze split ook al weer nodig?"
   ]
  },
  {
   "cell_type": "markdown",
   "id": "219986c5",
   "metadata": {},
   "source": [
    "Gebruik vervolgens de methode [`fit`](https://scikit-learn.org/stable/modules/generated/sklearn.linear_model.LinearRegression.html#sklearn.linear_model.LinearRegression.fit) om het model te trainen. "
   ]
  },
  {
   "cell_type": "code",
   "execution_count": 152,
   "id": "830c2a1b",
   "metadata": {},
   "outputs": [],
   "source": [
    "from sklearn.model_selection import train_test_split\n",
    "from sklearn.linear_model import LinearRegression\n",
    "#YOUR CODE HERE\n",
    "X_train, X_test, y_train, y_test = train_test_split(X, y, test_size = 0.2)\n",
    "model = LinearRegression().fit(X_train, y_train)"
   ]
  },
  {
   "cell_type": "markdown",
   "id": "524924a4",
   "metadata": {},
   "source": [
    "Gebruik nu de methode [`predict`](https://scikit-learn.org/stable/modules/generated/sklearn.linear_model.LinearRegression.html#sklearn.linear_model.LinearRegression.predict) om op basis van de test-data een uitspraak te doen over hoe goed het model presteert. Gebruik hiervoor de methode [`mean_square_error`](https://scikit-learn.org/stable/modules/generated/sklearn.metrics.mean_squared_error.html) uit `sklearn.metrics`. Hoe vind je dat het model presteert? Wat zou je kunnen doen om het model te verbeteren?"
   ]
  },
  {
   "cell_type": "code",
   "execution_count": 163,
   "id": "9946a4a1",
   "metadata": {},
   "outputs": [
    {
     "data": {
      "text/plain": [
       "0.5640574681987877"
      ]
     },
     "execution_count": 163,
     "metadata": {},
     "output_type": "execute_result"
    }
   ],
   "source": [
    "from sklearn.metrics import mean_squared_error\n",
    "#YOUR CODE HERE\n",
    "y_pred = model.predict(X_test)\n",
    "pred = mean_squared_error(y_test, y_pred)\n",
    "pred\n",
    "#0.5 is niet heel goed maar ook niet heel slecht er is zeker ruimte voor verbetering\n"
   ]
  },
  {
   "cell_type": "markdown",
   "id": "637a9041",
   "metadata": {},
   "source": [
    "Bestudeer tenslotte met behulp van het `coef_`-attribuut van het getrainde model om te weten te komen wat de formule is die het model gebruikt. Welke features zijn het belangrijkst en welke minder?"
   ]
  },
  {
   "cell_type": "code",
   "execution_count": 169,
   "id": "e88af6ae",
   "metadata": {},
   "outputs": [
    {
     "data": {
      "text/plain": [
       "array([ 4.47290701e-01,  9.80853297e-03, -1.25037064e-01,  8.31481060e-01,\n",
       "        4.84441396e-08, -3.49544180e-03, -4.17986934e-01, -4.34664572e-01])"
      ]
     },
     "execution_count": 169,
     "metadata": {},
     "output_type": "execute_result"
    }
   ],
   "source": [
    "#YOUR CODE HERE\n",
    "model.coef_"
   ]
  },
  {
   "cell_type": "code",
   "execution_count": null,
   "id": "2db3ca6c",
   "metadata": {},
   "outputs": [],
   "source": []
  }
 ],
 "metadata": {
  "kernelspec": {
   "display_name": "Python 3.9.4 64-bit",
   "language": "python",
   "name": "python3"
  },
  "language_info": {
   "codemirror_mode": {
    "name": "ipython",
    "version": 3
   },
   "file_extension": ".py",
   "mimetype": "text/x-python",
   "name": "python",
   "nbconvert_exporter": "python",
   "pygments_lexer": "ipython3",
   "version": "3.9.4"
  },
  "vscode": {
   "interpreter": {
    "hash": "db101cbe83ae4652c694b16d6e4e1e847b2efa3d7ac1ab8fe93e6702224790fb"
   }
  }
 },
 "nbformat": 4,
 "nbformat_minor": 5
}
